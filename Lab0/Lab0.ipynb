{
 "cells": [
  {
   "cell_type": "markdown",
   "id": "748def86",
   "metadata": {},
   "source": [
    "# Lab 0: Introduction\n",
    "\n",
    "This lab aims to exercise the basics of conducting experiments and training neural networks using it, while exploring how PyTorch works from the perspective of the user.\n",
    "\n",
    "This notebook has the following overall structure:\n",
    "\n",
    "- Building blocks for neural networks and data in PyTorch\n",
    "  + [Task 0](#Task-0)\n",
    "  + [Task 1](#Task-1)\n",
    "  + [Task 2](#Task-2:-A-fully-connected-linear-layer)\n",
    "  + [Task 3](#Task-3:-Loading-MNIST-data-and-batching)\n",
    "- Building and evaluating an image classifier with a convolutional neural network\n",
    "  + [Task 4](#Task-4:-A-simple-CNN)\n",
    "  + [Task 5](#Task-5:-BatchNorm-and-Dropout)\n",
    "  + [Task 6](#Task-6:-An-image-classifier-for-MNIST)\n",
    "  + [Task 7](#Task-7:-Calculate-the-accuracy-of-your-model)\n",
    "  + [Task 8](#Task-8:-Comparing-model-performance)\n",
    "- Exploring the model performance with out-of-distribution data\n",
    "  + [Task 9](#Task-9:-Rotating-MNIST)\n",
    "\n",
    "<div style=\"font-weight:bold;\">You need to complete all the tasks and show your solutions to one of the TA's to pass the lab. Please ask a TA to look at your solutions at suitably regular intervals during the lab. You should not wait until the very end to report your solutions, but we also recommend that you solve a mini-batch of tasks before showing your solutions.</div>\n",
    "\n",
    "We start with some basic imports."
   ]
  },
  {
   "cell_type": "code",
   "execution_count": null,
   "id": "6b58ee08",
   "metadata": {},
   "outputs": [],
   "source": [
    "import torch\n",
    "import torch.nn.functional as F\n",
    "import math\n",
    "import matplotlib.pyplot as plt\n",
    "from torch.utils.data import DataLoader\n",
    "from torchvision.datasets import MNIST\n",
    "from torchvision.utils import make_grid"
   ]
  },
  {
   "cell_type": "markdown",
   "id": "ce70708e",
   "metadata": {},
   "source": [
    "There are two fundamental objects in PyTorch: `torch.Tensor` and `torch.nn.Module`.\n",
    "\n",
    "**Note on devices (CPU/GPU):** Normally, those can be put into or moved from different `torch.device`s, but for this lab we will not use devices explicitly, which fallbacks to CPU-only computations. For more details on this, please consult the notebook on the basics of PyTorch.\n",
    "\n",
    "# Tensors\n",
    "\n",
    "Tensors represents muli-dimensional arrays of numbers used in any operation within PyTorch:\n",
    "- rank-0 tensor is a scalar\n",
    "- rank-1 tensor is a vector\n",
    "- rank-2 tensor is a matrix\n",
    "- rank-3 tensor is a volume\n",
    "- ...and so on\n",
    "\n",
    "We will most often use the `torch.tensor` function to initialize `torch.Tensor` objects."
   ]
  },
  {
   "cell_type": "code",
   "execution_count": null,
   "id": "f71af5ad",
   "metadata": {
    "scrolled": true
   },
   "outputs": [],
   "source": [
    "scalar = torch.tensor(0.1)\n",
    "print('scalar: {:.4f}'.format(scalar))\n",
    "print('scalar shape:', scalar.shape)"
   ]
  },
  {
   "cell_type": "code",
   "execution_count": null,
   "id": "7cfe8bf6",
   "metadata": {},
   "outputs": [],
   "source": [
    "vector = torch.tensor([0.1, 0.2, 0.3])\n",
    "print('vector:', vector)\n",
    "print('vector shape:', vector.shape)"
   ]
  },
  {
   "cell_type": "code",
   "execution_count": null,
   "id": "ec817d63",
   "metadata": {},
   "outputs": [],
   "source": [
    "# Notice how `torch.tensor` already becomes inconvenient here.\n",
    "# We use `torch.arange`, followed by reshape to create the tensor of a shape we want.\n",
    "\n",
    "matrix = torch.arange(9).reshape([3, 3])\n",
    "print('matrix:', matrix)\n",
    "print('matrix shape:', matrix.shape)"
   ]
  },
  {
   "cell_type": "code",
   "execution_count": null,
   "id": "b94c6af7",
   "metadata": {},
   "outputs": [],
   "source": [
    "# We can also initialize things with the shape we want if we need a fixed value.\n",
    "# Notice how we can also use a tuple (3, 3) instead of a list [3, 3] to indicate shapes.\n",
    "matrix = torch.full((3, 3), 0.0)\n",
    "# Setting the last column to ones\n",
    "matrix[:, -1] = 1.0\n",
    "print('matrix:', matrix)\n",
    "print('matrix shape:', matrix.shape)"
   ]
  },
  {
   "cell_type": "markdown",
   "id": "dce249dc",
   "metadata": {},
   "source": [
    "**NOTE:** As aliases, we also have `torch.zeros(shape)` and `torch.ones(shape)`, which do the same as `torch.full(shape, 0.0)` and `torch.full(shape, 1.0)`, respectively.\n",
    "\n",
    "Within deep learning, it is usual to operate on tensors of rank above 2, especially when working with images, as three of those ranks are already used to represent a single image: one rank for the color channel (R, G, or B) and two ranks for the columns and rows of pixels within a channel."
   ]
  },
  {
   "cell_type": "markdown",
   "id": "bc77c64e",
   "metadata": {},
   "source": [
    "## Task 0\n",
    "\n",
    "What does a higher-order tensor look like when initializing with `torch.tensor`, `torch.arange`, or one of the initializers with value? Initialize the `image` variable with a tensor of shape (3, 8, 8) filled with zeroes."
   ]
  },
  {
   "cell_type": "code",
   "execution_count": null,
   "id": "eee49959",
   "metadata": {
    "scrolled": true
   },
   "outputs": [],
   "source": [
    "# Before implementing a solution:\n",
    "# How is it supposed to be shown by `print` when the largest\n",
    "# rank we can \"see\" in text is two?\n",
    "# 2x2X2 \n",
    "image = torch.zeros(2, 2 ,2)\n",
    "print(image)"
   ]
  },
  {
   "cell_type": "markdown",
   "id": "7e02ec62",
   "metadata": {},
   "source": [
    "## Task 1\n",
    "Produce the following $13\\times 13$ matrix without using Python `for` loops:\n",
    "$$\n",
    "\\begin{pmatrix}\n",
    "1&2&1&1&1&1&2&1&1&1&1&2&1\\\\\n",
    "2&2&2&2&2&2&2&2&2&2&2&2&2\\\\\n",
    "1&2&1&1&1&1&2&1&1&1&1&2&1\\\\\n",
    "1&2&1&3&3&1&2&1&3&3&1&2&1\\\\\n",
    "1&2&1&3&3&1&2&1&3&3&1&2&1\\\\\n",
    "1&2&1&1&1&1&2&1&1&1&1&2&1\\\\\n",
    "2&2&2&2&2&2&2&2&2&2&2&2&2\\\\\n",
    "1&2&1&1&1&1&2&1&1&1&1&2&1\\\\\n",
    "1&2&1&3&3&1&2&1&3&3&1&2&1\\\\\n",
    "1&2&1&3&3&1&2&1&3&3&1&2&1\\\\\n",
    "1&2&1&1&1&1&2&1&1&1&1&2&1\\\\\n",
    "2&2&2&2&2&2&2&2&2&2&2&2&2\\\\\n",
    "1&2&1&1&1&1&2&1&1&1&1&2&1\n",
    "\\end{pmatrix}\n",
    "$$"
   ]
  },
  {
   "cell_type": "code",
   "execution_count": null,
   "id": "8482483e",
   "metadata": {
    "scrolled": true
   },
   "outputs": [],
   "source": [
    "# Answer\n",
    "i = torch.ones(13, 13)\n",
    "\n",
    "i[1,:] = 2\n",
    "i[6,:] = 2*torch.ones(13)\n",
    "i[11,:] = 2*torch.ones(13)\n",
    "i[:,1] = 2*torch.ones(13)\n",
    "i[:,6] = 2*torch.ones(13)\n",
    "i[:,11] = 2*torch.ones(13)\n",
    "i[3:5, 3:5] = 3*torch.ones(2,2)\n",
    "i[-5:-3, 3:5] = 3*torch.ones(2,2)\n",
    "i[3:5, -5:-3] = 3*torch.ones(2,2)\n",
    "i[-5:-3, -5:-3] = 3*torch.ones(2,2)\n",
    "\n",
    "\n",
    "print(i)"
   ]
  },
  {
   "cell_type": "markdown",
   "id": "242c4fa5",
   "metadata": {},
   "source": [
    "# Modules\n",
    "\n",
    "Modules are the second fundamental object, concerned with operations on tensors. To achieve this, it is responsible for two things:\n",
    "- storing (as members) either `torch.nn.Parameter` objects (subclasses of `torch.Tensor`) or other `Module`s, allowing nesting\n",
    "- transforming inputs into outputs via a `forward` method\n",
    "\n",
    "`Parameter` objects are used to represent `Tensors` which should be considered learnable parameters by PyTorch. Whenever a `Tensor` involved in a graph of operations has its `requires_grad` set to `True`, PyTorch will understand that its gradients should be tracked. That means that most of the time, `Parameter` objects have this set, unless a parameter is supposed to be *frozen*.\n",
    "\n",
    "As a first example, we consider the simplest possible `Module`, an activation function."
   ]
  },
  {
   "cell_type": "code",
   "execution_count": null,
   "id": "11c147d3",
   "metadata": {},
   "outputs": [],
   "source": [
    "class MyReLU(torch.nn.Module):\n",
    "    def __init__(self):\n",
    "        # NOTE: Every subclass of Module should implement __init__\n",
    "        # and call the __init__ method of its superclass.\n",
    "        super().__init__()\n",
    "\n",
    "    def forward(self, x):\n",
    "        return torch.where(x > 0.0, x, 0.0)"
   ]
  },
  {
   "cell_type": "code",
   "execution_count": null,
   "id": "08b86c1d",
   "metadata": {},
   "outputs": [],
   "source": [
    "activation = MyReLU()\n",
    "x = torch.randn(5)\n",
    "print(f\"Applying the ReLU to {x} results in {activation(x)}.\")\n"
   ]
  },
  {
   "cell_type": "markdown",
   "id": "2eabf268",
   "metadata": {},
   "source": [
    "**Note:** Internally, `torch.nn.Module` calls `forward` with its own custom `__call__` (the function application operator) method, so whenever we write `module(...)`, this calls the method `__call__`, which in turn calls `forward`."
   ]
  },
  {
   "cell_type": "markdown",
   "id": "88012d3f",
   "metadata": {},
   "source": [
    "## Task 2: A fully-connected linear layer\n",
    "\n",
    "Recall that a fully-connected linear layer $f_{\\theta^{(i)}}: \\mathbb{R}^{d_1} \\rightarrow \\mathbb{R}^{d_2}$, transforms its inputs $x$ as:\n",
    "$$\n",
    "f_{\\theta^{(i)}}(x) = W^{(i)} x + b^{(i)},\n",
    "$$\n",
    "where $W^{(i)} \\in \\mathbb{R}^{d_2 \\times d_1}$ and $b^{(i)} \\in \\mathbb{R}^{d_2}$.\n",
    "\n",
    "Next, we implement such a layer with learnable parameters. Its constructor `__init__` should take three arguments:\n",
    "- `num_inputs`, representing the number of input neurons\n",
    "- `num_outputs`, representing the number of output neurons\n",
    "- A keyword-argument `bias`, with its default value set to True, representing whether $b^{(i)}$ should be used or not\n",
    "\n",
    "Furthermore, its `forward` method should take a **matrix** of inputs, interpreting each row of the matrix as an input vector. Thus, it should also return a matrix of outputs, where each row corresponds to the transformed input according to the equation above.\n",
    "\n",
    "**NOTE:** Implement the `forward` method considering that matrix multiplication $A \\cdot B$ can be denoted by `A @ B` in PyTorch when $A \\in \\mathbb{R}^{n \\times d_1}$ and $B \\in \\mathbb{R}^{d_1 \\times d_2}$.\n",
    "\n",
    "### Batching (or mini-batching)\n",
    "\n",
    "Notice that our layer is not meant for taking a single vector as input and outputting a single vector. Instead, it takes multiple vectors as input and outputs multiple vectors. This is done for two reasons. The first one is **efficiency**: it is much faster to compute a single matrix-matrix product than transforming each vector individually. Further, as the multiplication has to be done only once, PyTorch has to keep track of only one transformation (for automatic differentiation later). Even if we would loop over a number of vectors and transform them individually, loops done in pure Python are much slower! The second reason is **mini-batching**: we take a certain number of data samples and process them at once, updating our model afterwards. Taking into account those two facts, it is certainly a reasonable choice to implement a neural network layer to take a number of inputs at once."
   ]
  },
  {
   "cell_type": "code",
   "execution_count": null,
   "id": "5ad9be93",
   "metadata": {},
   "outputs": [],
   "source": [
    "class MyLinear(torch.nn.Module):\n",
    "    def __init__(self, num_inputs, num_outputs, bias=True):\n",
    "        super().__init__()\n",
    "        # Here we create the layer's parameters and store them as attributes (self.)\n",
    "        # Initialize the parameters to zero-tensors of the appropriate dimensions\n",
    "        # torch.nn.Parameter is a wrapper which takes a tensor as input and adds it to the Module's parameter list\n",
    "        tensor = torch.zeros(num_outputs,num_inputs)\n",
    "        self.weight = torch.nn.Parameter(tensor)\n",
    "        if bias:\n",
    "            self.bias = torch.nn.Parameter(torch.zeros(num_outputs))\n",
    "        else:\n",
    "            # If bias is False, set this to a scalar 0 with no gradient tracking\n",
    "            self.bias = torch.nn.Parameter([0])\n",
    "    \n",
    "    def forward(self, x):\n",
    "        # x is a tensor of size [N,D1] and the return value should be of size [N,D2]\n",
    "        return  x @ self.weight.t() + self.bias#  5 x 3  3 x 2\n"
   ]
  },
  {
   "cell_type": "code",
   "execution_count": null,
   "id": "4a81bbf3",
   "metadata": {},
   "outputs": [],
   "source": [
    "# Initializing inputs with random values drawn from a standard Gaussian.\n",
    "# Its shape is (5, 3), representing 5 vectors of dimension 3 \"stacked\" together.\n",
    "inputs = torch.randn((5, 3))\n",
    "print(inputs)"
   ]
  },
  {
   "cell_type": "markdown",
   "id": "b5db8408",
   "metadata": {},
   "source": [
    "Our linear layer should be able to take in any number of 3-dimensional vectors and output the same number of 2-dimensional vectors."
   ]
  },
  {
   "cell_type": "code",
   "execution_count": null,
   "id": "d2c1717d",
   "metadata": {},
   "outputs": [],
   "source": [
    "my_linear = MyLinear(3, 2)\n",
    "print(my_linear.weight) \n",
    "print(my_linear.weight.shape) \n",
    "outputs = my_linear(inputs)\n",
    "print(outputs)\n",
    "print(outputs.shape)  # should be (5, 2)\n",
    "print(my_linear.weight.shape)  # should be (2, 3)\n",
    "print(my_linear.bias.shape)  # what should that be?"
   ]
  },
  {
   "cell_type": "markdown",
   "id": "bd8bf722",
   "metadata": {},
   "source": [
    "# Loading data\n",
    "\n",
    "PyTorch has abstractions to facilitate loading and batching of data, keeping our training loops simple by letting us focus on the training logic and giving us a batch of data at each iteration.\n",
    "\n",
    "This is done using two classes: `torch.utils.data.Dataset` and `torch.utils.data.DataLoader`.\n",
    "\n",
    "For now we will focus on how to use a `Dataset` together with `DataLoader`. We will explore how to create custom `Dataset` classes in a future Lab."
   ]
  },
  {
   "cell_type": "code",
   "execution_count": null,
   "id": "26696979",
   "metadata": {},
   "outputs": [],
   "source": [
    "dataset = MNIST(\n",
    "    '~/.data',\n",
    "    train=True,     # This will load only training data\n",
    "    download=True)  # Download data if it is not available at the given path\n",
    "\n",
    "first_datapoint = dataset[0]\n",
    "first_datapoint"
   ]
  },
  {
   "cell_type": "markdown",
   "id": "89b23a41",
   "metadata": {},
   "source": [
    "You might have noticed that `first_datapoint` returns something with two (!) values: an image and a number. If the data you are working with is labelled, this is done by convention with `Dataset` objects in PyTorch: each data point contains the input and label."
   ]
  },
  {
   "cell_type": "code",
   "execution_count": null,
   "id": "5ae6e8f8",
   "metadata": {},
   "outputs": [],
   "source": [
    "plt.imshow(first_datapoint[0], cmap='Grays')"
   ]
  },
  {
   "cell_type": "markdown",
   "id": "1c9c0248",
   "metadata": {},
   "source": [
    "## Data transformations\n",
    "\n",
    "Before we can load data that is used by our models, we need to convert the images into `Tensor`s. This is done by an API called transforms. Essentially, this API serves as a flexbile way to create pipelines of transformations to pre-process our data as it is loaded by the `Dataset` object. For now, we will simply use it to perform the conversion and nothing else."
   ]
  },
  {
   "cell_type": "code",
   "execution_count": null,
   "id": "fcd993b7",
   "metadata": {},
   "outputs": [],
   "source": [
    "from torchvision.transforms import v2 as T\n",
    "\n",
    "# T.Compose takes a list of transformations and applies them in sequence\n",
    "transform = T.Compose([\n",
    "    T.PILToTensor(),\n",
    "    T.ToDtype(torch.float32, scale=True), # scale=True scales values to the interval [0,1] if needed\n",
    "])\n",
    "# Notice the new keyword argument added at the end!\n",
    "dataset = MNIST(\n",
    "    '~/.data',\n",
    "    train=True,\n",
    "    download=True,\n",
    "    transform=transform)\n",
    "\n",
    "image, label = dataset[0]\n",
    "\n",
    "# Notice how image is now a tensor\n",
    "print(image.shape)"
   ]
  },
  {
   "cell_type": "markdown",
   "id": "5f3b9643",
   "metadata": {},
   "source": [
    "## Task 3: Loading MNIST data and batching\n",
    "\n",
    "The last missing ingredient is a `DataLoader` which is *NOT* the class performing the actual loading, as the name would suggest. It simply takes data from an underlying `Dataset` object and prepares a mini-batch for us in a convenient way. We are now ready to load MNIST data for training."
   ]
  },
  {
   "cell_type": "code",
   "execution_count": null,
   "id": "41f92a5e",
   "metadata": {},
   "outputs": [],
   "source": [
    "loader = DataLoader(\n",
    "    dataset,\n",
    "    batch_size=32,\n",
    "    shuffle=True\n",
    "    )   # NOTE: set to True when training on that dataset!\n",
    "\n",
    "# DataLoader implements the Python iterator interface, so we can take elements from it\n",
    "inputs, labels = next(iter(loader))\n",
    "# Notice how labels is now a tensor of ints\n",
    "print('inputs shape:', inputs.shape)\n",
    "print('labels shape:', labels.shape)"
   ]
  },
  {
   "cell_type": "markdown",
   "id": "65531856",
   "metadata": {},
   "source": [
    "Note that torch uses the convention that the first dimension is the batch size. Furthermore, for image data the second dimension corresponds to the channels, and the third and fourth to height and width, respectively. Hence, a batch of images is stored as a tensor of shape (B,C,H,W)."
   ]
  },
  {
   "cell_type": "code",
   "execution_count": null,
   "id": "b40c6023",
   "metadata": {},
   "outputs": [],
   "source": [
    "# Visualize the batch of images: important to always look at the inputs\n",
    "# if you are working with complex transformations!\n",
    "def plot_batch(batch):\n",
    "    grid = make_grid(batch)\n",
    "    # Move channel axis to the end: (C, H, W) -> (H, W, C)\n",
    "    grid = grid.permute(1, 2, 0)\n",
    "    plt.imshow(grid, cmap='Grays')\n",
    "    \n",
    "plot_batch(inputs)"
   ]
  },
  {
   "cell_type": "markdown",
   "id": "8e71efa7",
   "metadata": {},
   "source": [
    "**Question:** Which MNIST class has the most images? Compute this by iterating over the entire dataset using the `loader` object from above. If `x` is a PyTorch scalar, you can use `x.item()` to access the Python value at index 0 from the tensor `x`."
   ]
  },
  {
   "cell_type": "code",
   "execution_count": null,
   "id": "bbe2f847",
   "metadata": {},
   "outputs": [],
   "source": [
    "my_dict = {}\n",
    "\n",
    "\n",
    "for inputs, label in loader:\n",
    "    for x in label:\n",
    "        num = x.item()\n",
    "        if num in my_dict:\n",
    "            my_dict[num] +=1\n",
    "        else:\n",
    "            my_dict[num] = 1\n",
    "\n",
    "print(my_dict)\n",
    "# Answer\n",
    "#1"
   ]
  },
  {
   "cell_type": "markdown",
   "id": "48b3b07f",
   "metadata": {},
   "source": [
    "**Answer:**"
   ]
  },
  {
   "cell_type": "markdown",
   "id": "d0b69c14",
   "metadata": {},
   "source": [
    "# Writing PyTorch Models\n",
    "\n",
    "We will now build a simple CNN to train on MNIST later."
   ]
  },
  {
   "cell_type": "markdown",
   "id": "16e9428a",
   "metadata": {},
   "source": [
    "## Task 4: A simple CNN\n",
    "\n",
    "Given the following skeleton of a CNN, implement the `forward` method to apply each convolution in sequence, interleaving them with a ReLU activation function (use `F.relu`), followed by an average pooling of `3x3` (use `F.avg_pool2d`) and the fully-connected layer.\n",
    "\n",
    "This model is a CNN with three 5x5 convolutions with a stride of 1 (default) and no padding (also default). We successively increase the number of channels (from 1 to 4, then 8, and finally 16) as each convolution also reduces spatial resolution. This leads to activation maps of size 16 x 4 x 4, which we then flatten to 256-dimensional vectors and transform into a 10-dimensional vector for classification.\n",
    "\n",
    "Consult [the documentation](https://pytorch.org/docs/stable/generated/torch.nn.Conv2d.html) for details on the arguments of `Conv2d`.\n",
    "\n",
    "The illustration available at [this page](https://samuel.nihil.ws/convolution.html) can be useful for understanding how convolutional filters with different parameters work in the context of a CNN.\n",
    "\n",
    "The following is a block diagram showing the intended architecture for this CNN.\n",
    "\n",
    "![cnn-simple](data:image/png;base64,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)\n",
    "\n",
    "**Question:** It was mentioned that after all convolutions, the activation map has size 16 x 4 x 4. What is the size after each convolution step?"
   ]
  },
  {
   "cell_type": "markdown",
   "id": "7f32ab2f",
   "metadata": {},
   "source": [
    "**Answer: 4 x 20 x 20, 8 x 16 x 16, 16 x 12 x 12.**"
   ]
  },
  {
   "cell_type": "code",
   "execution_count": null,
   "id": "19aa254f",
   "metadata": {},
   "outputs": [],
   "source": [
    "class MNISTClassifierSimple(torch.nn.Module):\n",
    "    def __init__(self):\n",
    "        super().__init__()\n",
    "        self.conv1 = torch.nn.Conv2d(1, 4, 5)#TODO\n",
    "        self.conv2 = torch.nn.Conv2d(4, 8, 5)#TODO\n",
    "        self.conv3 = torch.nn.Conv2d(8, 16, 5)#TODO\n",
    "\n",
    "        self.fc = torch.nn.Linear(256, 10)\n",
    "\n",
    "\n",
    "    def forward(self, x):\n",
    "\n",
    "        activation = F.relu(x)\n",
    "\n",
    "        x = self.conv1(x)\n",
    "        x = F.relu(x)\n",
    "       \n",
    "        x = self.conv2(x)\n",
    "        x = F.relu(x)\n",
    "        \n",
    "        x = self.conv3(x)\n",
    "        x = F.relu(x)\n",
    "        #pool\n",
    "        x = F.avg_pool2d(x, 3)\n",
    "        #rearrange x\n",
    "        x = torch.flatten(x, 1)\n",
    "        x =  self.fc(x)\n",
    "        \n",
    "        return x\n"
   ]
  },
  {
   "cell_type": "markdown",
   "id": "a98536d6",
   "metadata": {},
   "source": [
    "Next, we take a look at the model structure for an object of this class:\n",
    "\n",
    "**Question:** What is the number of parameters expected for this model? 100, 800, 3200, pooling, 2560, Number of chanels is counted as a parameter aswell which can be seen by the snippet below, addtionaly have the parameters, 4, 8 and 16."
   ]
  },
  {
   "cell_type": "code",
   "execution_count": null,
   "id": "8190d12d",
   "metadata": {},
   "outputs": [],
   "source": [
    "model = MNISTClassifierSimple()\n",
    "model"
   ]
  },
  {
   "cell_type": "markdown",
   "id": "7c6b948a",
   "metadata": {},
   "source": [
    "**Answer**:"
   ]
  },
  {
   "cell_type": "markdown",
   "id": "a2cfbd58",
   "metadata": {},
   "source": [
    "After answering the question above, write a snippet that can count the number of parameters of a model, knowing that `model.parameters()` gives you the list of all parameter tensors in `model`."
   ]
  },
  {
   "cell_type": "code",
   "execution_count": null,
   "id": "5f448286",
   "metadata": {},
   "outputs": [],
   "source": [
    "total_params = sum(p.numel() for p  in model.parameters())\n",
    "print(total_params)\n",
    "\n",
    "for p in model.parameters():\n",
    "    print(p.numel())"
   ]
  },
  {
   "cell_type": "markdown",
   "id": "3c3282a0",
   "metadata": {},
   "source": [
    "## Task 5: BatchNorm and Dropout\n",
    "\n",
    "Based on the class above, define a new class `MNISTClassifier`, but adding `BatchNorm2d` layers after every convolution. In addition, add a `Dropout` layer right before the final fully-connected layer.\n",
    "\n",
    "### Training and evaluation behavior\n",
    "\n",
    "Note that these new layers have different behavior depending on whether the model is in training or evaluation mode.\n",
    "\n",
    "- **Batch normalization**: During training, maintains running estimates of mean and variance of activations seen. During evaluation, uses (but doesn't update) those estimates to normalize.\n",
    "- **Dropout**: Zeroes parts of the input uniformly at random during training. During evaluation keeps all inputs, but rescales it proportionally to the probability of keeping inputs during training.\n",
    "\n",
    "The two main ways this can be controlled in PyTorch (before calling `model(inputs)`) are:\n",
    "\n",
    "- Calling `model.train(is_training)`, where `is_training` is either `True` or `False`\n",
    "- Using `torch.inference_mode` as a [decorator or context manager](#Decorators-and-context-managers), which forces any models within the context to be in evaluation mode\n",
    "\n",
    "All the `torch.nn.Module`s within your model that contain differing behavior for training or evaluation will then behave accordingly."
   ]
  },
  {
   "cell_type": "code",
   "execution_count": null,
   "id": "f3c67027",
   "metadata": {},
   "outputs": [],
   "source": [
    "class MNISTClassifier(torch.nn.Module):\n",
    "    def __init__(self):\n",
    "        super().__init__()\n",
    "        self.conv1 = torch.nn.Conv2d(1, 4, 5)#TODO\n",
    "        self.conv2 = torch.nn.Conv2d(4, 8, 5)#TODO\n",
    "        self.conv3 = torch.nn.Conv2d(8, 16, 5)#TODO\n",
    "\n",
    "        self.bn1 = torch.nn.BatchNorm2d(4)\n",
    "        self.bn2 = torch.nn.BatchNorm2d(8)\n",
    "        self.bn3 = torch.nn.BatchNorm2d(16)\n",
    "        self.fc = torch.nn.Linear(256, 10)\n",
    "\n",
    "        self.dropout = torch.nn.Dropout()\n",
    "\n",
    "\n",
    "    def forward(self, x):\n",
    "\n",
    "        activation = F.relu(x)\n",
    "\n",
    "        x = self.conv1(x)\n",
    "        x = self.bn1(x)\n",
    "        x = F.relu(x)\n",
    "       \n",
    "        x = self.conv2(x)\n",
    "        x = self.bn2(x)\n",
    "        x = F.relu(x)\n",
    "        \n",
    "        x = self.conv3(x)\n",
    "        x = self.bn3(x)\n",
    "        x = F.relu(x)\n",
    "        #pool\n",
    "        x = F.avg_pool2d(x, 3)\n",
    "        #rearrange x\n",
    "        x = torch.flatten(x, 1)\n",
    "        x = self.dropout(x)\n",
    "        x =  self.fc(x)\n",
    "        \n",
    "        return x\n",
    "\n",
    "\n",
    "model = MNISTClassifier()\n",
    "total_params = sum(p.numel() for p  in model.parameters())\n",
    "print(total_params)\n",
    "\n",
    "for p in model.parameters():\n",
    "    print(p.numel())\n"
   ]
  },
  {
   "cell_type": "markdown",
   "id": "61f51bbe",
   "metadata": {},
   "source": [
    "**Question:** How many new parameters did this change introduced to your model? Where are those parameters specifically coming from?"
   ]
  },
  {
   "cell_type": "markdown",
   "id": "65943c38",
   "metadata": {},
   "source": [
    "**Answer:** Same as before? \n",
    "\n",
    "total_params = sum(p.numel() for p  in model.parameters())\n",
    "print(total_params)\n",
    "\n",
    "for p in model.parameters():\n",
    "    print(p.numel())"
   ]
  },
  {
   "cell_type": "markdown",
   "id": "3339add9",
   "metadata": {},
   "source": [
    "## Optimizers\n",
    "\n",
    "Notice how `model.parameters()` gives us access to all the parameters of the model, regardless of how complex its parameter structure is. This convenience method is needed for optimization, as the optimizer needs to collect all the parameters that should be updated.\n",
    "\n",
    "An optimizer object is our main way of updating parameters in PyTorch. One of the biggest advantages of using libraries such as PyTorch is that they facilitate the calculation of gradients by keeping track of what we do with tensors that have `requires_grad` set to `True`. With this information, a *computation graph* is implicitly built, and whenever we call the method `.backward()` on a scalar tensor (note that this is normally only possible on scalars!), PyTorch will backpropagate through this computation graph. Since the optimizer object keeps a list of all parameters that should be updated, it also manages their gradients. Thus, one can use `optimizer.zero_grad()` to zero the current gradients of those parameters and `optimizer.step()` to update parameters after a call to `.backward()` on a tensor involved in the same computation graph as the parameters the optimizer keeps track of.\n",
    "\n",
    "### A note on logits\n",
    "Our model was never told to output class probabilities, but it will still be trained as a classifier. In PyTorch, the usual way to handle this is through the `F.cross_entropy` loss, which is designed to take what are called **logits**: the raw values before applying the softmax activation function, exactly what our model already outputs. This allows to implement the usual cross entropy loss directly based on the logits, using a more numerically stable sequence of operations.\n",
    "\n",
    "This is how an optimizer is used:"
   ]
  },
  {
   "cell_type": "code",
   "execution_count": null,
   "id": "c22c3c29",
   "metadata": {},
   "outputs": [],
   "source": [
    "# Adam optimizer with learning rate of 0.001\n",
    "optimizer = torch.optim.Adam(model.parameters(), lr=1e-3)\n",
    "model = MNISTClassifier()\n",
    "\n",
    "# Get a batch of (random) data\n",
    "inputs = torch.randn((3, 1, 24, 24))\n",
    "labels = torch.randint(10, size=(3,))\n",
    "\n",
    "# Set this before starting a training loop to ensure\n",
    "# training-specific behavior (batch normalization and dropout)\n",
    "# is turned on\n",
    "model.train()\n",
    "\n",
    "# First, we need to zero all gradients related to the parameters\n",
    "# the optimizer is interested in\n",
    "optimizer.zero_grad()\n",
    "\n",
    "# Compute outputs and loss\n",
    "outputs = model(inputs)\n",
    "loss = F.cross_entropy(outputs, labels)\n",
    "print('Loss before:', loss.item())\n",
    "\n",
    "# Computes gradients of the loss w.r.t. all tensors involved\n",
    "# in the computation that have \"requires_grad=True\"\n",
    "loss.backward()\n",
    "\n",
    "# Updates parameters using the gradients by applying the\n",
    "# optimizer's update rule, learning rate, etc.\n",
    "optimizer.step()\n",
    "\n",
    "outputs = model(inputs)\n",
    "loss = F.cross_entropy(outputs, labels)\n",
    "print('Loss after:', loss.item())"
   ]
  },
  {
   "cell_type": "markdown",
   "id": "7edbf4a7",
   "metadata": {},
   "source": [
    "## Task 6: An image classifier for MNIST\n",
    "\n",
    "Using the class defined above, train your classifier on MNIST using the Adam optimizer. Initialize a new model instance and optimizer taking that model's parameters before starting training.\n",
    "\n",
    "Additionally, instantiate a new Dataset with an extra transformation: it should apply `T.CenterCrop((24, 24))` to remove the unnecessary padding around the images."
   ]
  },
  {
   "cell_type": "code",
   "execution_count": null,
   "id": "035d60e7",
   "metadata": {},
   "outputs": [],
   "source": [
    "transform = T.Compose([\n",
    "    T.PILToTensor(),\n",
    "    T.ToDtype(torch.float32, scale = True),\n",
    "    T.CenterCrop((24, 24))\n",
    "])\n",
    "\n",
    "# TODO\n",
    "dataset = MNIST(\n",
    "    '~/.data',\n",
    "    train=True, \n",
    "    download=True,\n",
    "transform=transform) \n",
    "\n",
    "loader = DataLoader(\n",
    "    dataset,\n",
    "    batch_size=32,\n",
    "    shuffle=True\n",
    "    )"
   ]
  },
  {
   "cell_type": "code",
   "execution_count": null,
   "id": "f956a5ba",
   "metadata": {},
   "outputs": [],
   "source": [
    "model = MNISTClassifier()\n",
    "#model = MNISTClassifierSimple()\n",
    "optimizer = torch.optim.Adam(model.parameters(), lr=1e-3)\n",
    "num_epochs = 5\n",
    "\n",
    "for epoch in range(num_epochs):\n",
    "    avg_loss = 0.0\n",
    "    model.train()\n",
    "    for i, (inputs, labels) in enumerate(loader):\n",
    "        optimizer.zero_grad()\n",
    "        outputs = model(inputs)\n",
    "        loss = F.cross_entropy(outputs, labels)\n",
    "        loss.backward()\n",
    "        optimizer.step()\n",
    "        outputs = model(inputs)\n",
    "        loss = F.cross_entropy(outputs, labels)\n",
    "        avg_loss = (avg_loss * i + loss.item()) / (i + 1)\n",
    "    print(f'[{epoch:04d}] avg_loss={avg_loss:4f}')"
   ]
  },
  {
   "cell_type": "markdown",
   "id": "ff56ba2a",
   "metadata": {},
   "source": [
    "## Task 7: Calculate the accuracy of your model\n",
    "\n",
    "Given the trained model above, calculate the accuracy of your model on the training and test data. Remember [this note](#Training-and-evaluation-behavior) when calculating it. As a suggestion, consider implementing a function that takes a model and loader and returns the accuracy.\n",
    "\n",
    "**Hint:** `torch.argmax(x, dim=-1)` gives you the index of the largest value per row of `x` (if it is a matrix)."
   ]
  },
  {
   "cell_type": "code",
   "execution_count": null,
   "id": "8219fc13",
   "metadata": {
    "scrolled": true
   },
   "outputs": [],
   "source": [
    "transform = T.Compose([\n",
    "    T.PILToTensor(),\n",
    "    T.ToDtype(torch.float32, scale = True),\n",
    "    T.CenterCrop((24, 24))\n",
    "])\n",
    "\n",
    "# Train\n",
    "dataset_train = MNIST(\n",
    "    '~/.data',\n",
    "    train=True, \n",
    "    download=True,\n",
    "transform=transform) \n",
    "\n",
    "loader_train = DataLoader(\n",
    "    dataset_train,\n",
    "    batch_size=32,\n",
    "    shuffle=True\n",
    "    )\n",
    "\n",
    "# Test\n",
    "dataset_test = MNIST(\n",
    "    '~/.data',\n",
    "    train=False, \n",
    "    download=True,\n",
    "transform=transform) \n",
    "\n",
    "loader_test = DataLoader(\n",
    "    dataset_test,\n",
    "    batch_size=32,\n",
    "    shuffle=True\n",
    "    )\n",
    "\n",
    "correct = 0\n",
    "counter = 0\n",
    "for i, (inputs, labels) in enumerate(loader_train):\n",
    "    counter += len(labels)\n",
    "    outputs = model(inputs)\n",
    "    _, index = torch.max(outputs,1)\n",
    "    correct += (index == labels).sum().item()\n",
    "\n",
    "print(correct/counter, \"Accuracy for training\")\n",
    "\n",
    "correct = 0\n",
    "counter = 0\n",
    "for i, (inputs, labels) in enumerate(loader_test):\n",
    "    counter += len(labels)\n",
    "    outputs = model(inputs)\n",
    "    _, index = torch.max(outputs,1)\n",
    "    correct += (index == labels).sum().item()\n",
    "\n",
    "print(correct/counter, \"Accuracy for test\")\n"
   ]
  },
  {
   "cell_type": "markdown",
   "id": "1f67864f",
   "metadata": {},
   "source": [
    "## A note on reproducibility\n",
    "\n",
    "When training deep learning models, it is important to ensure you can reproduce the results later, given the same inputs to your code. Here is a \"laundry list\" of things to think of when training your models. Let `seed` be an integer determining the seed for a pseudo-random number generator (PRNG).\n",
    "\n",
    "- `torch.manual_seed(seed)` sets CPU and CUDA PRNGs\n",
    "- `np.random.seed(seed)` (if your code uses the NumPy PRNG)\n",
    "- `random.seed(seed)` (if your code uses the `random` module from the Python standard library)\n",
    "- `torch.use_deterministic_algorithms(True)`\n",
    "\n",
    "**Note:** If you use a `DataLoader` with `num_workers` $\\neq 0$ (not the case here), make sure to set the worker initialization to control for seeds as well. See https://pytorch.org/docs/stable/notes/randomness.html for more details."
   ]
  },
  {
   "cell_type": "markdown",
   "id": "7b0002ce",
   "metadata": {},
   "source": [
    "## Task 8: Comparing model performance\n",
    "\n",
    "Experimentation with different models is the norm in machine learning. Compare the benefits of adding batch normalization and dropout by comparing the performance of `MNISTClassifierSimple` and `MNISTClassifier`. Save the average loss per epoch in an array and plot the average loss per epoch of both models. Which one performed better? How was the convergence behavior?"
   ]
  },
  {
   "cell_type": "code",
   "execution_count": null,
   "id": "7a713eee",
   "metadata": {},
   "outputs": [],
   "source": [
    "# TODO: Replace with real values\n",
    "losses1 = [0.260013, 0.117559, 0.099622, 0.091456, 0.085149]\n",
    "losses2 = [0.278194, 0.101380, 0.070538, 0.056419, 0.047299] #simple\n",
    "\n",
    "\n",
    "# Plotting two lines, e.g., lists of loss values\n",
    "fig, ax = plt.subplots(nrows=1, ncols=1)\n",
    "ax.set_ylabel('Loss')\n",
    "ax.set_xlabel('Epoch')\n",
    "for s in 'top', 'right':\n",
    "    ax.spines[s].set_visible(False)\n",
    "ax.plot(losses1, 'r-', label='Model 1')\n",
    "ax.plot(losses2, 'b-', label='Simple')\n",
    "ax.legend()"
   ]
  },
  {
   "cell_type": "markdown",
   "id": "7abd23e1",
   "metadata": {},
   "source": [
    "## Task 9: Rotating MNIST\n",
    "\n",
    "With a trained model, evaluate the probability assigned by it on a rotating digit, as shown below. Your task is to apply the `F.softmax` function to the model outputs and set the predicted class probability values accordingly."
   ]
  },
  {
   "cell_type": "code",
   "execution_count": null,
   "id": "f0c3524d",
   "metadata": {},
   "outputs": [],
   "source": [
    "from torchvision.transforms.functional import rotate\n",
    "\n",
    "# An image which is a 6\n",
    "index = 100\n",
    "x, label = dataset_test[index]\n",
    "\n",
    "angles = list(range(0, 360, 45))\n",
    "fig, axes = plt.subplots(nrows=1, ncols=len(angles), figsize=(len(angles) * 3, 3))\n",
    "for i, angle in enumerate(angles):\n",
    "    rot_x = rotate(x, angle)\n",
    "    probs = F.softmax(model(torch.unsqueeze(rot_x, 1)), dim = 1)\n",
    "    prob6 = probs[0, 6]\n",
    "    prob9 = probs[0, 9]\n",
    "\n",
    "    ax = axes[i]\n",
    "    ax.set_axis_off()\n",
    "    ax.set_title(f'{angle} deg.\\np(6)={prob6:.2f}\\np(9)={prob9:.2f}')\n",
    "    ax.imshow(rot_x.permute(1, 2, 0), cmap='Grays')"
   ]
  },
  {
   "cell_type": "markdown",
   "id": "645b1631",
   "metadata": {},
   "source": [
    "# Appendix: Decorators and context managers\n",
    "\n",
    "In PyTorch, there are some useful decorators and context managers for controlling its behavior. The most common ones are `torch.no_grad` and `torch.inference_mode`. But what are those?\n",
    "\n",
    "## Decorators\n",
    "\n",
    "A function decorator is a function that takes a function as argument and returns a function. In other words, it represents a \"transformation\" of a function. (Technically, classes that implement `__init__` and `__call__` can also act as decorators, but we ignore that for now.)"
   ]
  },
  {
   "cell_type": "code",
   "execution_count": null,
   "id": "58444896",
   "metadata": {},
   "outputs": [],
   "source": [
    "def do_twice(func):\n",
    "    def wrapper():\n",
    "        func()\n",
    "        func()\n",
    "    return wrapper\n",
    "\n",
    "def hello():\n",
    "    print('hello, world')\n",
    "\n",
    "print(\"Calling hello() as it is.\")\n",
    "hello()\n",
    "\n",
    "print(\"\\nCalling the transformed hello()\")\n",
    "transformed_hello = do_twice(hello)\n",
    "transformed_hello()"
   ]
  },
  {
   "cell_type": "markdown",
   "id": "820d9e16",
   "metadata": {},
   "source": [
    "Since writing this can get relatively tedious, Python supports a special syntax to simplify it:"
   ]
  },
  {
   "cell_type": "code",
   "execution_count": null,
   "id": "4f5070c2",
   "metadata": {},
   "outputs": [],
   "source": [
    "@do_twice\n",
    "def hello():\n",
    "    print('hello, world')\n",
    "\n",
    "hello()\n"
   ]
  },
  {
   "cell_type": "markdown",
   "id": "ba35c48d",
   "metadata": {},
   "source": [
    "In PyTorch, `torch.no_grad`, transforms a function to no longer keep track of the computations done within, as a sign that you will not need to calculate gradients from those later. When evaluating models, this is usually what we want, as we don't need to keep track of the gradients. Beware that, due to its definition, `torch.no_grad` is both a context manager (more below) and can be used as a decorator."
   ]
  },
  {
   "cell_type": "code",
   "execution_count": null,
   "id": "0b97e97f",
   "metadata": {},
   "outputs": [],
   "source": [
    "@torch.no_grad()\n",
    "def eval_model(model, loader):\n",
    "    # Do evaluation here, no gradients will be kept track of\n",
    "    model.train(False)\n",
    "    pass"
   ]
  },
  {
   "cell_type": "markdown",
   "id": "c3b49d0b",
   "metadata": {},
   "source": [
    "In addition, PyTorch also offers `torch.inference_mode`, which disables gradients as `torch.no_grad` (works also for forward-mode automatic differentiation, but this is not covered here and still in beta with unstable API). Models used in this mode will also have their behavior set to evaluation (also known as inference) mode, where layers like `BatchNorm2d` and `Dropout` behave differently."
   ]
  },
  {
   "cell_type": "code",
   "execution_count": null,
   "id": "04732d75",
   "metadata": {},
   "outputs": [],
   "source": [
    "@torch.inference_mode()\n",
    "def eval_model(model, loader):\n",
    "    # Do evaluation here.\n",
    "    # Notice that we don't need to call model.train(False). This is handled by the decorator!\n",
    "    pass"
   ]
  },
  {
   "cell_type": "markdown",
   "id": "4d7d6bb1",
   "metadata": {},
   "source": [
    "## Context managers\n",
    "\n",
    "Context managers are objects which implement three special methods: `__init__`, `__enter__` and `__exit__`. They are most commonly used as resource managers, but can more generally be used to define blocks of code where something is supposed to happen before (optionally) or after (optionally, but mostly desirable) it is executed."
   ]
  },
  {
   "cell_type": "code",
   "execution_count": null,
   "id": "ce3828e5",
   "metadata": {},
   "outputs": [],
   "source": [
    "class HelloGoodbye:\n",
    "    def __enter__(self):\n",
    "        print('Hello')\n",
    "\n",
    "    def __exit__(self, exc_type, exc_value, exc_traceback):\n",
    "        print('Goodbye')\n",
    "\n",
    "with HelloGoodbye():\n",
    "    print('This message follows a hello and preceeds a goodbye.')"
   ]
  },
  {
   "cell_type": "markdown",
   "id": "32742904",
   "metadata": {},
   "source": [
    "Notice that `__exit__` is given a few arguments as well. This implies and means that context managers can react to exceptions that happen within the context managed by it, allowing proper management of resources also when an exception occurs."
   ]
  },
  {
   "cell_type": "markdown",
   "id": "c1fbcba1",
   "metadata": {},
   "source": [
    "With `torch.no_grad` and `torch.inference_mode`, this is similar:"
   ]
  },
  {
   "cell_type": "code",
   "execution_count": null,
   "id": "5f3a7df9",
   "metadata": {},
   "outputs": [],
   "source": [
    "with torch.no_grad():\n",
    "    # No gradients are kept track of here\n",
    "    pass\n",
    "\n",
    "with torch.inference_mode():\n",
    "    # In addition, models here are set to their evaluation (or inference) mode\n",
    "    pass"
   ]
  },
  {
   "cell_type": "markdown",
   "id": "c5c5f3f7",
   "metadata": {},
   "source": [
    "## Deciding between decorators and context managers\n",
    "\n",
    "Choosing which one to use depends on the intention of the code you are writing. Here we give simple principles to follow, which should be ignored when it gets in your way of writing clearer code.\n",
    "\n",
    "The easiest example is if you are writing evaluation functions: annotate it with `@torch.inference_mode()` and you won't have to remember to set the model to evaluation mode and will not keep track of gradients unnecessarily. By extension, any function which is by purpose meant to run with a certain behavior, should probably be annotated accordingly.\n",
    "\n",
    "Cases where context managers make most sense is when you have functions which are sometimes supposed to run with certain behavior and sometimes not. You can then write a single function and then decide later to call it within the `torch.no_grad()` context manager. In general, if you have a resource that should only be available for a limited amount of time and in specific contexts (hint is this), then a context manager is probably the natural solution in Python."
   ]
  }
 ],
 "metadata": {
  "kernelspec": {
   "display_name": "Python 3 (ipykernel)",
   "language": "python",
   "name": "python3"
  },
  "language_info": {
   "codemirror_mode": {
    "name": "ipython",
    "version": 3
   },
   "file_extension": ".py",
   "mimetype": "text/x-python",
   "name": "python",
   "nbconvert_exporter": "python",
   "pygments_lexer": "ipython3",
   "version": "3.12.2"
  }
 },
 "nbformat": 4,
 "nbformat_minor": 5
}
